{
 "cells": [
  {
   "cell_type": "markdown",
   "metadata": {},
   "source": [
    "### 用tensorflow API: tf.keras搭建神经网络八股\n",
    "六步法：\n",
    "1. import\n",
    "2. train, test\n",
    "3. model = tf.keras.models.Sequential\n",
    "4. model.compile\n",
    "5. model.fit\n",
    "6. model.summary\n",
    "\n",
    "\n",
    "### tf.keras.models.Sequential([网络结构]) 描述各层网络\n",
    "网络结构举例\n",
    "- 拉直层：tf.keras.layers.Flatten()\n",
    "- 全连接层：tf.keras.layers.Dense(神经元个数, activation=\"激活函数\", kernel_regularizer=哪种正则化)\n",
    "    - activation（字符串给出）可选：relu、softmax、sigmoid、tanh\n",
    "    - kernel_regularizer可选：tf.keras.regularizers.l1()、tf.keras.regularizers.l2()\n",
    "- 卷积层：tf.keras.layers.Conv2D(filters=卷积核个数, kernel_size=卷积核尺寸,strides=卷积步长, padding=\"valid\" or \"same\")\n",
    "- LSTM层：tf.keras.layers.LSTM()\n",
    "\n",
    "### model.compile(optimizer=优化器, loss=损失函数, metrics=[\"准确率\"])\n",
    "Optimizer可选:\n",
    "- ‘sgd’ or tf.keras.optimizers.SGD (lr=学习率,momentum=动量参数)\n",
    "- ‘adagrad’ or tf.keras.optimizers.Adagrad (lr=学习率)\n",
    "- ‘adadelta’ or tf.keras.optimizers.Adadelta (lr=学习率)\n",
    "- ‘adam’ or tf.keras.optimizers.Adam (lr=学习率, beta_1=0.9, beta_2=0.999)\n",
    "loss可选:\n",
    "- ‘mse’ or tf.keras.losses.MeanSquaredError()\n",
    "- ‘sparse_categorical_crossentropy’ or tf.keras.losses.SparseCategoricalCrossentropy(from_logits=False)\n",
    "Metrics可选:\n",
    "- ‘accuracy’ ：y_和y都是数值，如y_=[1] y=[1] \n",
    "- ‘categorical_accuracy’ ：y_和y都是独热码(概率分布)，如y_=[0,1,0] y=[0.256,0.695,0.048]\n",
    "- ‘sparse_categorical_accuracy’ ：y_是数值，y是独热码(概率分布),如y_=[1] y=[0.256,0.695,0.048]\n",
    "\n",
    "### model.fit(训练集的输入特征, 训练集的标签, batch_size= , epochs= , validation_data=(测试集的输入特征，测试集的标签),validation_split=从训练集划分多少比例给测试集，validation_freq = 多少次epoch测试一次)\n",
    "\n",
    "### model.summary()"
   ]
  },
  {
   "cell_type": "code",
   "execution_count": null,
   "metadata": {},
   "outputs": [],
   "source": [
    "import tensorflow as tf\n",
    "from matplotlib import pyplot as plt\n",
    "\n",
    "mnist = tf.keras.datasets.mnist\n",
    "(x_train, y_train), (x_test, y_test) = mnist.load_data()\n",
    "\n",
    "# 可视化训练集输入特征的第一个元素\n",
    "plt.imshow(x_train[0], cmap='gray')  # 绘制灰度图\n",
    "plt.show()\n",
    "\n",
    "# 打印出训练集输入特征的第一个元素\n",
    "print(\"x_train[0]:\\n\", x_train[0])\n",
    "# 打印出训练集标签的第一个元素\n",
    "print(\"y_train[0]:\\n\", y_train[0])\n",
    "\n",
    "# 打印出整个训练集输入特征形状\n",
    "print(\"x_train.shape:\\n\", x_train.shape)\n",
    "# 打印出整个训练集标签的形状\n",
    "print(\"y_train.shape:\\n\", y_train.shape)\n",
    "# 打印出整个测试集输入特征的形状\n",
    "print(\"x_test.shape:\\n\", x_test.shape)\n",
    "# 打印出整个测试集标签的形状\n",
    "print(\"y_test.shape:\\n\", y_test.shape)"
   ]
  },
  {
   "cell_type": "markdown",
   "metadata": {},
   "source": [
    "### 神经网络八股功能扩展\n",
    "- 自制数据集\n",
    "- 数据增强\n",
    "- 断点续训\n",
    "- 参数提取\n",
    "- acc/loss可视化\n",
    "- 应用程序，给图识物"
   ]
  },
  {
   "cell_type": "markdown",
   "metadata": {},
   "source": [
    "#### 数据增强\n",
    "image_gen_train = tf.keras.preprocessing.image.ImageDataGenerator(\n",
    "    rescale=1./255,  # 归一化，所有数据将乘以该数值\n",
    "    rotation_range=10,  # 随机旋转\n",
    "    width_shift_range=0.1,  # 随机宽度偏移量\n",
    "    height_shift_range=0.1,  # 随机高度偏移量\n",
    "    horizontal_flip=True,  # 随机水平翻转\n",
    "    zoom_range=0.2,  # 随机缩放的范围[1-zoom_range,1+zoom_range]\n",
    ")\n",
    "image_gen_train.fix(x_train)"
   ]
  }
 ],
 "metadata": {
  "kernelspec": {
   "display_name": "tf2.1",
   "language": "python",
   "name": "python3"
  },
  "language_info": {
   "codemirror_mode": {
    "name": "ipython",
    "version": 3
   },
   "file_extension": ".py",
   "mimetype": "text/x-python",
   "name": "python",
   "nbconvert_exporter": "python",
   "pygments_lexer": "ipython3",
   "version": "0.0.0"
  }
 },
 "nbformat": 4,
 "nbformat_minor": 2
}
